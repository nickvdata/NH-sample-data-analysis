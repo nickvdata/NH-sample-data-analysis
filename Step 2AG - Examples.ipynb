{
 "cells": [
  {
   "cell_type": "markdown",
   "metadata": {},
   "source": [
    "A Python 3 noteobook demostratig some pandas basics"
   ]
  },
  {
   "cell_type": "code",
   "execution_count": 1,
   "metadata": {},
   "outputs": [],
   "source": [
    "import pandas as pd\n",
    "import numpy as np"
   ]
  },
  {
   "cell_type": "code",
   "execution_count": 2,
   "metadata": {},
   "outputs": [],
   "source": [
    "# load the data\n",
    "df = pd.read_csv('Gender Pay Gap.csv')"
   ]
  },
  {
   "cell_type": "code",
   "execution_count": 3,
   "metadata": {},
   "outputs": [
    {
     "name": "stdout",
     "output_type": "stream",
     "text": [
      "<class 'pandas.core.frame.DataFrame'>\n",
      "RangeIndex: 10508 entries, 0 to 10507\n",
      "Data columns (total 22 columns):\n",
      "Employer Name                                     10508 non-null object\n",
      "Address                                           10508 non-null object\n",
      "Postcode                                          10508 non-null object\n",
      "Percent Difference in Mean Hourly Wage            10508 non-null float64\n",
      "Percent Difference in Median Hourly Wage          10508 non-null float64\n",
      "Percent Difference in Mean Bonus Received         10508 non-null float64\n",
      "Percent Difference in Median Bonus Received       10508 non-null float64\n",
      "Percentage of Males that Received a Bonus         10508 non-null float64\n",
      "Percentage of Females that Received a Bonus       10508 non-null float64\n",
      "Proportion of Males in Lower Quartile             10508 non-null float64\n",
      "Proportion of Females in Lower Quartile           10508 non-null float64\n",
      "Proportion of Males in Lower Middle Quartile      10508 non-null float64\n",
      "Proportion of Females in Lower Middle Quartile    10508 non-null float64\n",
      "Proportion of Males in Upper Middle Quartile      10508 non-null float64\n",
      "Proportion of Females in Upper Middle Quartile    10508 non-null float64\n",
      "Proportion of Males in Top Quartile               10508 non-null float64\n",
      "Proportion of Females in Top Quartile             10508 non-null float64\n",
      "Company Link To GPG Info                          7753 non-null object\n",
      "Responsible Person                                8835 non-null object\n",
      "Employer Size                                     10508 non-null object\n",
      "Current Name                                      10508 non-null object\n",
      "Submitted After The Deadline                      10508 non-null bool\n",
      "dtypes: bool(1), float64(14), object(7)\n",
      "memory usage: 7.2 MB\n"
     ]
    }
   ],
   "source": [
    "# find out what was loaded and how much memory it is using\n",
    "df.info(memory_usage='deep')"
   ]
  },
  {
   "cell_type": "markdown",
   "metadata": {},
   "source": [
    "# Save Some Memory \n",
    "Here's a technique to reduce floats to the smallest size possible. (could do the same with ints)"
   ]
  },
  {
   "cell_type": "code",
   "execution_count": 5,
   "metadata": {},
   "outputs": [
    {
     "name": "stdout",
     "output_type": "stream",
     "text": [
      "{\n",
      "'Percent Difference in Mean Hourly Wage': 'float16',\n",
      "'Percent Difference in Median Hourly Wage': 'float16',\n",
      "'Percent Difference in Mean Bonus Received': 'float16',\n",
      "'Percent Difference in Median Bonus Received': 'float16',\n",
      "'Percentage of Males that Received a Bonus': 'float16',\n",
      "'Percentage of Females that Received a Bonus': 'float16',\n",
      "'Proportion of Males in Lower Quartile': 'float16',\n",
      "'Proportion of Females in Lower Quartile': 'float16',\n",
      "'Proportion of Males in Lower Middle Quartile': 'float16',\n",
      "'Proportion of Females in Lower Middle Quartile': 'float16',\n",
      "'Proportion of Males in Upper Middle Quartile': 'float16',\n",
      "'Proportion of Females in Upper Middle Quartile': 'float16',\n",
      "'Proportion of Males in Top Quartile': 'float16',\n",
      "'Proportion of Females in Top Quartile': 'float16',\n",
      "}\n"
     ]
    }
   ],
   "source": [
    "# First, print out the data types for columns that can use a smaller float data type\n",
    "print('{')\n",
    "for col in df.select_dtypes(include=['floating']):\n",
    "    mx = df[col].max()\n",
    "    mn = df[col].min()   \n",
    "    if mn > np.finfo(np.float16).min and mx < np.finfo(np.float16).max:\n",
    "        print(\"'\" + col + \"': 'float16',\")\n",
    "    elif mn > np.finfo(np.float32).min and mx < np.finfo(np.float32).max:\n",
    "        print(\"'\" + col + \"': 'float32',\")\n",
    "    elif mn > np.finfo(np.float64).min and mx < np.finfo(np.float64).max:\n",
    "        print(\"'\" + col + \"': 'float64',\")\n",
    "print('}')"
   ]
  },
  {
   "cell_type": "code",
   "execution_count": 6,
   "metadata": {},
   "outputs": [],
   "source": [
    "#put these data type definations in a variable\n",
    "data_type = {\n",
    "'Percent Difference in Mean Hourly Wage': 'float16',\n",
    "'Percent Difference in Median Hourly Wage': 'float16',\n",
    "'Percent Difference in Mean Bonus Received': 'float16',\n",
    "'Percent Difference in Median Bonus Received': 'float16',\n",
    "'Percentage of Males that Received a Bonus': 'float16',\n",
    "'Percentage of Females that Received a Bonus': 'float16',\n",
    "'Proportion of Males in Lower Quartile': 'float16',\n",
    "'Proportion of Females in Lower Quartile': 'float16',\n",
    "'Proportion of Males in Lower Middle Quartile': 'float16',\n",
    "'Proportion of Females in Lower Middle Quartile': 'float16',\n",
    "'Proportion of Males in Upper Middle Quartile': 'float16',\n",
    "'Proportion of Females in Upper Middle Quartile': 'float16',\n",
    "'Proportion of Males in Top Quartile': 'float16',\n",
    "'Proportion of Females in Top Quartile': 'float16',\n",
    "'Submitted After The Deadline': 'float16',\n",
    "}"
   ]
  },
  {
   "cell_type": "code",
   "execution_count": 7,
   "metadata": {},
   "outputs": [],
   "source": [
    "#read the csv file using these data type definations\n",
    "df2 = pd.read_csv('Gender Pay Gap.csv', dtype=data_type)"
   ]
  },
  {
   "cell_type": "code",
   "execution_count": 8,
   "metadata": {},
   "outputs": [
    {
     "name": "stdout",
     "output_type": "stream",
     "text": [
      "<class 'pandas.core.frame.DataFrame'>\n",
      "RangeIndex: 10508 entries, 0 to 10507\n",
      "Data columns (total 22 columns):\n",
      "Employer Name                                     10508 non-null object\n",
      "Address                                           10508 non-null object\n",
      "Postcode                                          10508 non-null object\n",
      "Percent Difference in Mean Hourly Wage            10508 non-null float16\n",
      "Percent Difference in Median Hourly Wage          10508 non-null float16\n",
      "Percent Difference in Mean Bonus Received         10508 non-null float16\n",
      "Percent Difference in Median Bonus Received       10508 non-null float16\n",
      "Percentage of Males that Received a Bonus         10508 non-null float16\n",
      "Percentage of Females that Received a Bonus       10508 non-null float16\n",
      "Proportion of Males in Lower Quartile             10508 non-null float16\n",
      "Proportion of Females in Lower Quartile           10508 non-null float16\n",
      "Proportion of Males in Lower Middle Quartile      10508 non-null float16\n",
      "Proportion of Females in Lower Middle Quartile    10508 non-null float16\n",
      "Proportion of Males in Upper Middle Quartile      10508 non-null float16\n",
      "Proportion of Females in Upper Middle Quartile    10508 non-null float16\n",
      "Proportion of Males in Top Quartile               10508 non-null float16\n",
      "Proportion of Females in Top Quartile             10508 non-null float16\n",
      "Company Link To GPG Info                          7753 non-null object\n",
      "Responsible Person                                8835 non-null object\n",
      "Employer Size                                     10508 non-null object\n",
      "Current Name                                      10508 non-null object\n",
      "Submitted After The Deadline                      10508 non-null float16\n",
      "dtypes: float16(15), object(7)\n",
      "memory usage: 6.4 MB\n"
     ]
    }
   ],
   "source": [
    "#Check if it worked and if some memory was saved\n",
    "df2.info(memory_usage='deep')"
   ]
  },
  {
   "cell_type": "markdown",
   "metadata": {},
   "source": [
    "You should find it;'s using 6.4 MB rather than 7.2 MB, not much of a saving but the technique can be very useful on larger data sets."
   ]
  },
  {
   "cell_type": "code",
   "execution_count": null,
   "metadata": {},
   "outputs": [],
   "source": []
  }
 ],
 "metadata": {
  "kernelspec": {
   "display_name": "Python 3",
   "language": "python",
   "name": "python3"
  },
  "language_info": {
   "codemirror_mode": {
    "name": "ipython",
    "version": 3
   },
   "file_extension": ".py",
   "mimetype": "text/x-python",
   "name": "python",
   "nbconvert_exporter": "python",
   "pygments_lexer": "ipython3",
   "version": "3.5.3"
  }
 },
 "nbformat": 4,
 "nbformat_minor": 2
}
