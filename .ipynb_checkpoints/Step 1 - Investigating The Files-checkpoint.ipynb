{
 "cells": [
  {
   "cell_type": "markdown",
   "metadata": {},
   "source": [
    "# Files\n",
    "List the files in this directory"
   ]
  },
  {
   "cell_type": "code",
   "execution_count": 8,
   "metadata": {},
   "outputs": [
    {
     "name": "stdout",
     "output_type": "stream",
     "text": [
      "total 3.2M\n",
      "drwxr-xr-x  7 poweruser users  224 Jun  7 12:54 .\n",
      "drwxr-xr-x 36 poweruser users 1.2K Jun  7 12:47 ..\n",
      "drwxr-xr-x 14 poweruser users  448 Jun  7 12:51 .git\n",
      "drwxr-xr-x  3 poweruser users   96 Jun  7 12:48 .ipynb_checkpoints\n",
      "-rw-r--r--  1 poweruser users 3.2M Jun  7 12:51 Gender Pay Gap.csv\n",
      "-rw-r--r--  1 poweruser users   79 Jun  7 12:47 README.md\n",
      "-rw-r--r--  1 poweruser users 2.8K Jun  7 12:54 Step 1 - Investigating The Files.ipynb\n"
     ]
    }
   ],
   "source": [
    "ls -lah"
   ]
  },
  {
   "cell_type": "markdown",
   "metadata": {},
   "source": [
    "# Lines\n",
    "Count the number of lines in the file"
   ]
  },
  {
   "cell_type": "code",
   "execution_count": 6,
   "metadata": {},
   "outputs": [
    {
     "name": "stdout",
     "output_type": "stream",
     "text": [
      "50281 Gender Pay Gap.csv\n"
     ]
    }
   ],
   "source": [
    "wc -l 'Gender Pay Gap.csv'"
   ]
  },
  {
   "cell_type": "markdown",
   "metadata": {},
   "source": [
    "# Peak\n",
    "Peak at first two lines"
   ]
  },
  {
   "cell_type": "code",
   "execution_count": 10,
   "metadata": {},
   "outputs": [
    {
     "name": "stdout",
     "output_type": "stream",
     "text": [
      "Employer Name,Address,Postcode,Percent Difference in Mean Hourly Wage,Percent Difference in Median Hourly Wage,Percent Difference in Mean Bonus Received,Percent Difference in Median Bonus Received,Percentage of Males that Received a Bonus,Percentage of Females that Received a Bonus,Proportion of Males in Lower Quartile,Proportion of Females in Lower Quartile,Proportion of Males in Lower Middle Quartile,Proportion of Females in Lower Middle Quartile,Proportion of Males in Upper Middle Quartile,Proportion of Females in Upper Middle Quartile,Proportion of Males in Top Quartile,Proportion of Females in Top Quartile,Company Link To GPG Info,Responsible Person,Employer Size,Current Name,Submitted After The Deadline\n",
      "\"Bryanston School,Incorporated\",\"Bryanston House,\n",
      "Blandford,\n"
     ]
    }
   ],
   "source": [
    "head -n 3 'Gender Pay Gap.csv'"
   ]
  },
  {
   "cell_type": "code",
   "execution_count": null,
   "metadata": {},
   "outputs": [],
   "source": []
  }
 ],
 "metadata": {
  "kernelspec": {
   "display_name": "Bash",
   "language": "bash",
   "name": "bash"
  },
  "language_info": {
   "codemirror_mode": "shell",
   "file_extension": ".sh",
   "mimetype": "text/x-sh",
   "name": "bash"
  }
 },
 "nbformat": 4,
 "nbformat_minor": 2
}
