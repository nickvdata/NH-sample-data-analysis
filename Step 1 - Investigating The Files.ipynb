{
 "cells": [
  {
   "cell_type": "markdown",
   "metadata": {},
   "source": [
    "# Files\n",
    "List the files in this directory"
   ]
  },
  {
   "cell_type": "code",
   "execution_count": 8,
   "metadata": {},
   "outputs": [
    {
     "name": "stdout",
     "output_type": "stream",
     "text": [
      "total 3.2M\n",
      "drwxr-xr-x  7 poweruser users  224 Jun  7 12:54 .\n",
      "drwxr-xr-x 36 poweruser users 1.2K Jun  7 12:47 ..\n",
      "drwxr-xr-x 14 poweruser users  448 Jun  7 12:51 .git\n",
      "drwxr-xr-x  3 poweruser users   96 Jun  7 12:48 .ipynb_checkpoints\n",
      "-rw-r--r--  1 poweruser users 3.2M Jun  7 12:51 Gender Pay Gap.csv\n",
      "-rw-r--r--  1 poweruser users   79 Jun  7 12:47 README.md\n",
      "-rw-r--r--  1 poweruser users 2.8K Jun  7 12:54 Step 1 - Investigating The Files.ipynb\n"
     ]
    }
   ],
   "source": [
    "ls -lah"
   ]
  },
  {
   "cell_type": "markdown",
   "metadata": {},
   "source": [
    "# Lines\n",
    "Count the number of lines in the file"
   ]
  },
  {
   "cell_type": "code",
   "execution_count": 6,
   "metadata": {},
   "outputs": [
    {
     "name": "stdout",
     "output_type": "stream",
     "text": [
      "50281 Gender Pay Gap.csv\n"
     ]
    }
   ],
   "source": [
    "wc -l 'Gender Pay Gap.csv'"
   ]
  },
  {
   "cell_type": "markdown",
   "metadata": {},
   "source": [
    "# Peak\n",
    "Peak at first ten lines (note the Gender Pay Gap file has new lines inside some fields so is not strictly one line per record)"
   ]
  },
  {
   "cell_type": "code",
   "execution_count": 13,
   "metadata": {},
   "outputs": [
    {
     "name": "stdout",
     "output_type": "stream",
     "text": [
      "Employer Name,Address,Postcode,Percent Difference in Mean Hourly Wage,Percent Difference in Median Hourly Wage,Percent Difference in Mean Bonus Received,Percent Difference in Median Bonus Received,Percentage of Males that Received a Bonus,Percentage of Females that Received a Bonus,Proportion of Males in Lower Quartile,Proportion of Females in Lower Quartile,Proportion of Males in Lower Middle Quartile,Proportion of Females in Lower Middle Quartile,Proportion of Males in Upper Middle Quartile,Proportion of Females in Upper Middle Quartile,Proportion of Males in Top Quartile,Proportion of Females in Top Quartile,Company Link To GPG Info,Responsible Person,Employer Size,Current Name,Submitted After The Deadline\n",
      "\"Bryanston School,Incorporated\",\"Bryanston House,\n",
      "Blandford,\n",
      "Dorset,\n",
      "United Kingdom,\n",
      "DT11 0PX\",DT11 0PX,0.18,0.282,0,0,0,0,0.244,0.756,0.508,0.492,0.492,0.508,0.515,0.485,https://www.bryanston.co.uk/employment,Nick McRobb (Bursar and Clerk to the Governors),500 to 999,\"Bryanston School,Incorporated\",FALSE\n",
      "\"RED BAND CHEMICAL COMPANY, LIMITED\",\"19, Smith's Place,\n",
      "Leith Walk,\n",
      "Edinburgh,\n",
      "EH6 8NU\",EH6 8NU,0.023,-0.027,0.15,0.375,0.156,0.667,0.203,0.797,0.254,0.746,0.103,0.897,0.181,0.819,,Philip Galt (Managing Director),250 to 499,\"RED BAND CHEMICAL COMPANY, LIMITED\",FALSE\n"
     ]
    }
   ],
   "source": [
    "head -n 10 'Gender Pay Gap.csv'"
   ]
  }
 ],
 "metadata": {
  "kernelspec": {
   "display_name": "Bash",
   "language": "bash",
   "name": "bash"
  },
  "language_info": {
   "codemirror_mode": "shell",
   "file_extension": ".sh",
   "mimetype": "text/x-sh",
   "name": "bash"
  }
 },
 "nbformat": 4,
 "nbformat_minor": 2
}
